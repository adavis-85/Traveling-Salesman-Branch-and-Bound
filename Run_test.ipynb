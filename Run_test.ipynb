{
 "cells": [
  {
   "cell_type": "code",
   "execution_count": null,
   "metadata": {},
   "outputs": [],
   "source": [
    "n=path_test(matrix_to_submit,start,visited_test,nv,mn,tv)\n",
    "\n",
    "if len(n[2])<g:\n",
    "    while len(n[2])<g:\n",
    "        n=path_test((n[0]),(n[1]),(n[2]),(n[3]),\n",
    "                    (n[4]),(n[5]))\n",
    "b=full_spread(n)\n",
    "\n",
    "incumbent_value=b[1]\n",
    "incumbent_path=b[2]\n",
    "test=search_tree(b,incumbent_value)\n",
    "\n",
    "\n",
    "print(\"path\",incumbent_path,\"incumbent\",incumbent_value)\n",
    "\n",
    "see=b_track(test,incumbent_value,incumbent_path)\n",
    "    \n",
    "\n",
    "path [0, 7, 5, 8, 1, 2, 6, 3, 9, 4, 0] incumbent 5.179893431317443\n",
    "2.020004955912092 path cost\n",
    "1.51387122195219 path cost\n",
    "4.90197525369645 possible incumbent\n",
    "[0, 7, 1, 5, 9, 4, 3, 2, 6, 8, 0] possible path\n",
    "1.8991116896150342 path cost\n",
    "2.8077121112744026 path cost\n",
    "3.614263960289944 path cost\n",
    "3.658403632388306 path cost\n",
    "4.054066749091475 path cost\n",
    "4.900909217384384 path cost\n",
    "\n",
    "see\n",
    "\n",
    "(4.90197525369645, [0, 7, 1, 5, 9, 4, 3, 2, 6, 8, 0])"
   ]
  }
 ],
 "metadata": {
  "kernelspec": {
   "display_name": "Python 3",
   "language": "python",
   "name": "python3"
  },
  "language_info": {
   "codemirror_mode": {
    "name": "ipython",
    "version": 3
   },
   "file_extension": ".py",
   "mimetype": "text/x-python",
   "name": "python",
   "nbconvert_exporter": "python",
   "pygments_lexer": "ipython3",
   "version": "3.6.4"
  }
 },
 "nbformat": 4,
 "nbformat_minor": 2
}
